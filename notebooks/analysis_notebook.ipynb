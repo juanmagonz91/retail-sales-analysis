{
 "cells": [
  {
   "cell_type": "code",
   "execution_count": 4,
   "id": "4d42dac1-755f-4bfb-b19c-78bba1887db4",
   "metadata": {},
   "outputs": [
    {
     "name": "stdout",
     "output_type": "stream",
     "text": [
      "True\n"
     ]
    }
   ],
   "source": [
    "import os\n",
    "\n",
    "# Verificar si el archivo existe en la ruta especificada\n",
    "print(os.path.exists('../retail_sales_dataset.csv')) "
   ]
  },
  {
   "cell_type": "code",
   "execution_count": 30,
   "id": "ad9ae7d2-6168-48bb-b2dc-de5bb1cac5d1",
   "metadata": {},
   "outputs": [
    {
     "name": "stdout",
     "output_type": "stream",
     "text": [
      "[[   1.   nan   nan ...    3.   50.  150.]\n",
      " [   2.   nan   nan ...    2.  500. 1000.]\n",
      " [   3.   nan   nan ...    1.   30.   30.]\n",
      " ...\n",
      " [ 998.   nan   nan ...    4.   25.  100.]\n",
      " [ 999.   nan   nan ...    3.   50.  150.]\n",
      " [1000.   nan   nan ...    4.   30.  120.]]\n"
     ]
    }
   ],
   "source": [
    "import numpy as np\n",
    "\n",
    "# Función para cargar los datos del archivo CSV\n",
    "def cargar_datos(ruta_archivo):\n",
    "    # Cargar los datos del archivo CSV utilizando NumPy\n",
    "    datos = np.genfromtxt(ruta_archivo, delimiter=',', skip_header=1)\n",
    "    return datos\n",
    "\n",
    "if __name__ == \"__main__\":\n",
    "    # Ruta del archivo CSV\n",
    "    ruta_archivo = '../retail_sales_dataset.csv'\n",
    "    \n",
    "    # Cargar los datos\n",
    "    datos = cargar_datos(ruta_archivo)\n",
    "    \n",
    "    # Imprimir los primeros registros para inspección\n",
    "    print(datos)"
   ]
  },
  {
   "cell_type": "code",
   "execution_count": 31,
   "id": "10e0fcf3-1d3f-47d2-9532-7e58017f6c0c",
   "metadata": {},
   "outputs": [
    {
     "name": "stdout",
     "output_type": "stream",
     "text": [
      "Total de Ventas por Categoría: [179890. 456000.]\n"
     ]
    }
   ],
   "source": [
    "total_ventas = np.sum(datos[:, -2:], axis=0)  # Sumar las columnas correspondientes a ventas\n",
    "print(\"Total de Ventas por Categoría:\", total_ventas)"
   ]
  },
  {
   "cell_type": "code",
   "execution_count": 33,
   "id": "8acc0468-a2d8-4c4d-b3cb-94d4f07d5cfb",
   "metadata": {},
   "outputs": [
    {
     "name": "stdout",
     "output_type": "stream",
     "text": [
      "Promedio de Ventas Diarias por Categoría: [179.89 456.  ]\n"
     ]
    }
   ],
   "source": [
    "promedio_ventas = np.nanmean(datos[:, -2:], axis=0)  # Promedio de ventas\n",
    "print(\"Promedio de Ventas Diarias por Categoría:\", promedio_ventas)"
   ]
  },
  {
   "cell_type": "code",
   "execution_count": 34,
   "id": "aee6acd1-f36b-4fac-86dd-04bd63616fe9",
   "metadata": {},
   "outputs": [
    {
     "name": "stdout",
     "output_type": "stream",
     "text": [
      "Categoría con mayores ventas: 456000.0\n",
      "Categoría con menores ventas: 179890.0\n"
     ]
    }
   ],
   "source": [
    "# Identificar las categorías con mayores y menores ventas\n",
    "max_ventas = np.max(total_ventas)\n",
    "min_ventas = np.min(total_ventas)\n",
    "print(\"Categoría con mayores ventas:\", max_ventas)\n",
    "print(\"Categoría con menores ventas:\", min_ventas)"
   ]
  },
  {
   "cell_type": "code",
   "execution_count": 9,
   "id": "52df9485-87ad-46e8-8576-79143facfd9e",
   "metadata": {},
   "outputs": [
    {
     "name": "stdout",
     "output_type": "stream",
     "text": [
      "Nombres de las columnas: Index(['Transaction ID', 'Date', 'Customer ID', 'Gender', 'Age',\n",
      "       'Product Category', 'Quantity', 'Price per Unit', 'Total Amount'],\n",
      "      dtype='object')\n",
      "\n",
      "Array de NumPy:\n",
      " [[1 '2023-11-24' 'CUST001' ... 3 50 150]\n",
      " [2 '2023-02-27' 'CUST002' ... 2 500 1000]\n",
      " [3 '2023-01-13' 'CUST003' ... 1 30 30]\n",
      " ...\n",
      " [998 '2023-10-29' 'CUST998' ... 4 25 100]\n",
      " [999 '2023-12-05' 'CUST999' ... 3 50 150]\n",
      " [1000 '2023-04-12' 'CUST1000' ... 4 30 120]]\n"
     ]
    }
   ],
   "source": [
    "\"\"\"Agregue esta operacion para obtener los nombres de columnas\"\"\"\n",
    "import pandas as pd\n",
    "\n",
    "def cargar_datos(ruta_archivo):\n",
    "    # Cargar los datos del archivo CSV utilizando pandas\n",
    "    datos = pd.read_csv(ruta_archivo)\n",
    "    return datos\n",
    "\n",
    "# Ruta del archivo (deberás poner tu propia ruta)\n",
    "ruta_archivo = '../retail_sales_dataset.csv'\n",
    "\n",
    "# Cargar los datos\n",
    "df = cargar_datos(ruta_archivo)\n",
    "\n",
    "# Convertir el DataFrame a un array de NumPy si es necesario\n",
    "data_numpy = df.to_numpy()\n",
    "\n",
    "# Ver los nombres de las columnas\n",
    "print(\"Nombres de las columnas:\", df.columns)\n",
    "\n",
    "# Visualizar los datos como un array NumPy\n",
    "print(\"\\nArray de NumPy:\\n\", data_numpy)\n"
   ]
  },
  {
   "cell_type": "code",
   "execution_count": 11,
   "id": "5c0a3990-2dac-4625-90d9-2b9336a6b8c2",
   "metadata": {},
   "outputs": [
    {
     "name": "stdout",
     "output_type": "stream",
     "text": [
      "Array de NumPy (primeras filas):\n",
      " [['1' '2023-11-24' 'CUST001' 'Male' '34' 'Beauty' '3' '50' '150']\n",
      " ['2' '2023-02-27' 'CUST002' 'Female' '26' 'Clothing' '2' '500' '1000']\n",
      " ['3' '2023-01-13' 'CUST003' 'Male' '50' 'Electronics' '1' '30' '30']\n",
      " ['4' '2023-05-21' 'CUST004' 'Male' '37' 'Clothing' '1' '500' '500']\n",
      " ['5' '2023-05-06' 'CUST005' 'Male' '30' 'Beauty' '2' '50' '100']]\n",
      "Dimensiones del array: (1000, 9)\n",
      "Datos filtrados (Categoría 'Beauty'):\n",
      " [['1' '2023-11-24' 'CUST001' ... '3' '50' '150']\n",
      " ['5' '2023-05-06' 'CUST005' ... '2' '50' '100']\n",
      " ['6' '2023-04-25' 'CUST006' ... '1' '30' '30']\n",
      " ...\n",
      " ['994' '2023-12-18' 'CUST994' ... '2' '500' '1000']\n",
      " ['997' '2023-11-17' 'CUST997' ... '3' '30' '90']\n",
      " ['998' '2023-10-29' 'CUST998' ... '4' '25' '100']]\n"
     ]
    }
   ],
   "source": [
    "import numpy as np\n",
    "\n",
    "# Función para cargar los datos\n",
    "def cargar_datos(ruta_archivo):\n",
    "    # Cargar los datos del archivo CSV utilizando NumPy\n",
    "    datos = np.genfromtxt(ruta_archivo, delimiter=',', dtype=str, encoding='utf-8', skip_header=1)\n",
    "    return datos\n",
    "\n",
    "# Ruta del archivo CSV (ajusta esta ruta)\n",
    "ruta_archivo = '../retail_sales_dataset.csv'\n",
    "\n",
    "# Cargar los datos\n",
    "datos = cargar_datos(ruta_archivo)\n",
    "\n",
    "# Verifica si los datos se cargaron como una matriz bidimensional\n",
    "print(\"Array de NumPy (primeras filas):\\n\", datos[:5])\n",
    "\n",
    "# Verifica las dimensiones del array\n",
    "print(\"Dimensiones del array:\", datos.shape)\n",
    "\n",
    "# Filtrar los datos por una categoría de producto específica, en este caso 'Beauty'\n",
    "# La columna 'Product Category' está en el índice 5\n",
    "categoria_especifica = datos[datos[:, 5] == 'Beauty']\n",
    "\n",
    "# Mostrar los datos filtrados por la categoría 'Beauty'\n",
    "print(\"Datos filtrados (Categoría 'Beauty'):\\n\", categoria_especifica)\n"
   ]
  },
  {
   "cell_type": "code",
   "execution_count": 12,
   "id": "f38a4dd5-263c-4972-b410-b1e5a01f6b8a",
   "metadata": {},
   "outputs": [
    {
     "name": "stdout",
     "output_type": "stream",
     "text": [
      "Dimensiones del array: (1000, 9)\n",
      "Suma (Quantity + Price per Unit):\n",
      " [ 53. 502.  31. 501.  52.]\n",
      "Resta (Total Amount - Price per Unit):\n",
      " [100. 500.   0.   0.  50.]\n",
      "Multiplicación (Quantity * Price per Unit):\n",
      " [ 150. 1000.   30.  500.  100.]\n",
      "División (Total Amount / Quantity):\n",
      " [ 50. 500.  30. 500.  50.]\n",
      "\n",
      "Estadísticas adicionales:\n",
      "Suma total de 'Quantity': 2514.0\n",
      "Precio promedio por unidad: 179.89\n",
      "Total promedio por transacción: 456.0\n",
      "Rango de edades: 18.0 - 64.0\n"
     ]
    }
   ],
   "source": [
    "import numpy as np\n",
    "\n",
    "# Función para cargar los datos\n",
    "def cargar_datos(ruta_archivo):\n",
    "    # Cargar los datos del archivo CSV utilizando NumPy\n",
    "    datos = np.genfromtxt(ruta_archivo, delimiter=',', dtype=str, encoding='utf-8', skip_header=1)\n",
    "    return datos\n",
    "\n",
    "# Ruta del archivo CSV (ajusta esta ruta)\n",
    "ruta_archivo = '../retail_sales_dataset.csv'\n",
    "\n",
    "# Cargar los datos\n",
    "datos = cargar_datos(ruta_archivo)\n",
    "\n",
    "# Verifica las dimensiones del array\n",
    "print(\"Dimensiones del array:\", datos.shape)\n",
    "\n",
    "# Convertir columnas específicas a valores numéricos (age, quantity, price, total amount)\n",
    "# La columna 4 es 'Age', la 6 es 'Quantity', la 7 es 'Price per Unit', y la 8 es 'Total Amount'\n",
    "\n",
    "# Convertir estas columnas a formato numérico (float o int)\n",
    "age = datos[:, 4].astype(float)\n",
    "quantity = datos[:, 6].astype(float)\n",
    "price_per_unit = datos[:, 7].astype(float)\n",
    "total_amount = datos[:, 8].astype(float)\n",
    "\n",
    "# **Operaciones**\n",
    "# 1. Suma: suma de 'Quantity' y 'Price per Unit'\n",
    "suma = quantity + price_per_unit\n",
    "\n",
    "# 2. Resta: diferencia entre 'Total Amount' y 'Price per Unit'\n",
    "resta = total_amount - price_per_unit\n",
    "\n",
    "# 3. Multiplicación: producto de 'Quantity' y 'Price per Unit'\n",
    "multiplicacion = quantity * price_per_unit\n",
    "\n",
    "# 4. División: división de 'Total Amount' entre 'Quantity' (evitar división por 0)\n",
    "division = np.divide(total_amount, quantity, where=quantity != 0)\n",
    "\n",
    "# Mostrar resultados\n",
    "print(\"Suma (Quantity + Price per Unit):\\n\", suma[:5])  # Mostrar las primeras 5 filas\n",
    "print(\"Resta (Total Amount - Price per Unit):\\n\", resta[:5])  # Mostrar las primeras 5 filas\n",
    "print(\"Multiplicación (Quantity * Price per Unit):\\n\", multiplicacion[:5])  # Mostrar las primeras 5 filas\n",
    "print(\"División (Total Amount / Quantity):\\n\", division[:5])  # Mostrar las primeras 5 filas\n",
    "\n",
    "# Estadísticas adicionales\n",
    "print(\"\\nEstadísticas adicionales:\")\n",
    "print(\"Suma total de 'Quantity':\", np.sum(quantity))\n",
    "print(\"Precio promedio por unidad:\", np.mean(price_per_unit))\n",
    "print(\"Total promedio por transacción:\", np.mean(total_amount))\n",
    "print(\"Rango de edades:\", np.min(age), \"-\", np.max(age))\n"
   ]
  },
  {
   "cell_type": "code",
   "execution_count": null,
   "id": "b7e96780-a0d2-42db-9ed3-7541d1941438",
   "metadata": {},
   "outputs": [],
   "source": []
  }
 ],
 "metadata": {
  "kernelspec": {
   "display_name": "Python 3 (ipykernel)",
   "language": "python",
   "name": "python3"
  },
  "language_info": {
   "codemirror_mode": {
    "name": "ipython",
    "version": 3
   },
   "file_extension": ".py",
   "mimetype": "text/x-python",
   "name": "python",
   "nbconvert_exporter": "python",
   "pygments_lexer": "ipython3",
   "version": "3.12.6"
  }
 },
 "nbformat": 4,
 "nbformat_minor": 5
}
